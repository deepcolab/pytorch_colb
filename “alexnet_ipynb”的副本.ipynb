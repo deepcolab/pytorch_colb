{
  "nbformat": 4,
  "nbformat_minor": 0,
  "metadata": {
    "colab": {
      "name": "“alexnet.ipynb”的副本",
      "version": "0.3.2",
      "provenance": [],
      "collapsed_sections": [],
      "include_colab_link": true
    },
    "language_info": {
      "codemirror_mode": {
        "name": "ipython",
        "version": 3
      },
      "file_extension": ".py",
      "mimetype": "text/x-python",
      "name": "python",
      "nbconvert_exporter": "python",
      "pygments_lexer": "ipython3",
      "version": "3.6.3"
    },
    "kernelspec": {
      "name": "python3",
      "display_name": "Python 3"
    },
    "accelerator": "GPU"
  },
  "cells": [
    {
      "cell_type": "markdown",
      "metadata": {
        "id": "view-in-github",
        "colab_type": "text"
      },
      "source": [
        "<a href=\"https://colab.research.google.com/github/deepcolab/pytorch_colb/blob/master/%E2%80%9Calexnet_ipynb%E2%80%9D%E7%9A%84%E5%89%AF%E6%9C%AC.ipynb\" target=\"_parent\"><img src=\"https://colab.research.google.com/assets/colab-badge.svg\" alt=\"Open In Colab\"/></a>"
      ]
    },
    {
      "cell_type": "markdown",
      "metadata": {
        "id": "EAo5JswR0-Gx",
        "colab_type": "text"
      },
      "source": [
        "## AlexNet\n",
        "在2012年, 由 [Alex Krizhevsky](https://www.cs.toronto.edu/~kriz/), [Ilya Sutskever](http://www.cs.toronto.edu/~ilya/), [Geoffrey Hinton](http://www.cs.toronto.edu/~hinton/)提出了一种使用卷积神经网络的方法, 以 [0.85](http://image-net.org/challenges/LSVRC/2012/results.html#abstract) 的`top-5`正确率一举获得当年分类比赛的冠军, 超越使用传统方法的第二名10个百分点, 震惊了当时的学术界, 从此开启了人工智能领域的新篇章.\n",
        "\n",
        "这次的课程我们就来复现一次`AlexNet`, 首先来看它的网络结构\n",
        "\n",
        "<img src=\"https://ws4.sinaimg.cn/large/006tKfTcgy1fodv2ppd85j307l0n13yk.jpg\">\n",
        "\n",
        "可以看出`AlexNet`就是几个卷积池化堆叠后连接几个全连接层, 下面就让我们来尝试仿照这个结构来解决[cifar10](https://www.cs.toronto.edu/~kriz/cifar.html)分类问题."
      ]
    },
    {
      "cell_type": "code",
      "metadata": {
        "ExecuteTime": {
          "end_time": "2018-02-12T11:34:50.845438Z",
          "start_time": "2018-02-12T11:34:50.427113Z"
        },
        "id": "tbr7aUVH0-Gz",
        "colab_type": "code",
        "colab": {}
      },
      "source": [
        "#for test\n",
        "import torch\n",
        "from torch import nn\n",
        "import numpy as np\n",
        "from torch.autograd import Variable\n",
        "from torchvision.datasets import CIFAR10"
      ],
      "execution_count": 0,
      "outputs": []
    },
    {
      "cell_type": "markdown",
      "metadata": {
        "id": "mVA9xlT80-G4",
        "colab_type": "text"
      },
      "source": [
        "依照上面的结构，我们可以定义 AlexNet"
      ]
    },
    {
      "cell_type": "code",
      "metadata": {
        "ExecuteTime": {
          "end_time": "2018-02-12T11:34:50.933245Z",
          "start_time": "2018-02-12T11:34:50.847597Z"
        },
        "id": "xeFWPdGG0-G5",
        "colab_type": "code",
        "colab": {}
      },
      "source": [
        "class AlexNet(nn.Module):\n",
        "    def __init__(self):\n",
        "        super().__init__()\n",
        "        \n",
        "        # 第一层是 5x5 的卷积, 输入的 channels 是 3，输出的 channels 是 64, 步长是 1, 没有 padding\n",
        "        self.conv1 = nn.Sequential(\n",
        "            nn.Conv2d(3, 64, 5), \n",
        "            nn.ReLU(True))\n",
        "        \n",
        "        # 第二层是 3x3 的池化, 步长是 2, 没有 padding\n",
        "        self.max_pool1 = nn.MaxPool2d(3, 2)\n",
        "        \n",
        "        # 第三层是 5x5 的卷积, 输入的 channels 是 64，输出的 channels 是 64, 步长是 1, 没有 padding\n",
        "        self.conv2 = nn.Sequential(\n",
        "            nn.Conv2d(64, 64, 5, 1),\n",
        "            nn.ReLU(True))\n",
        "\n",
        "        # 第四层是 3x3 的池化，步长是 2，没有 padding\n",
        "        self.max_pool2 = nn.MaxPool2d(3, 2)\n",
        "        \n",
        "        # 第五层是全连接层，输入是 1204，输出是 384\n",
        "        self.fc1 = nn.Sequential(\n",
        "            nn.Linear(1024, 384),\n",
        "            nn.ReLU(True))\n",
        "        \n",
        "        # 第六层是全连接层，输入是 384，输出是 192\n",
        "        self.fc2 = nn.Sequential(\n",
        "            nn.Linear(384, 192),\n",
        "            nn.ReLU(True))\n",
        "        \n",
        "        # 第七层是全连接层，输入是 192，输出是 10\n",
        "        self.fc3 = nn.Linear(192, 10)\n",
        "        \n",
        "    def forward(self, x):\n",
        "        x = self.conv1(x)\n",
        "        x = self.max_pool1(x)\n",
        "        x = self.conv2(x)\n",
        "        x = self.max_pool2(x)\n",
        "        \n",
        "        # 将矩阵拉平\n",
        "        x = x.view(x.shape[0], -1)\n",
        "        x = self.fc1(x)\n",
        "        x = self.fc2(x)\n",
        "        x = self.fc3(x)\n",
        "        return x"
      ],
      "execution_count": 0,
      "outputs": []
    },
    {
      "cell_type": "code",
      "metadata": {
        "ExecuteTime": {
          "end_time": "2018-02-12T11:34:50.947728Z",
          "start_time": "2018-02-12T11:34:50.935359Z"
        },
        "id": "OWJ0jFNo0-G9",
        "colab_type": "code",
        "colab": {}
      },
      "source": [
        "alexnet = AlexNet()"
      ],
      "execution_count": 0,
      "outputs": []
    },
    {
      "cell_type": "markdown",
      "metadata": {
        "id": "olFUTaD10-G_",
        "colab_type": "text"
      },
      "source": [
        "打印一下网络的结构"
      ]
    },
    {
      "cell_type": "code",
      "metadata": {
        "ExecuteTime": {
          "end_time": "2018-02-12T11:34:50.963589Z",
          "start_time": "2018-02-12T11:34:50.949702Z"
        },
        "id": "cMEYtbHe0-HA",
        "colab_type": "code",
        "outputId": "e38d8bd7-9365-4f2a-e864-484425ea74e0",
        "colab": {
          "base_uri": "https://localhost:8080/",
          "height": 374
        }
      },
      "source": [
        "alexnet"
      ],
      "execution_count": 4,
      "outputs": [
        {
          "output_type": "execute_result",
          "data": {
            "text/plain": [
              "AlexNet(\n",
              "  (conv1): Sequential(\n",
              "    (0): Conv2d(3, 64, kernel_size=(5, 5), stride=(1, 1))\n",
              "    (1): ReLU(inplace)\n",
              "  )\n",
              "  (max_pool1): MaxPool2d(kernel_size=3, stride=2, padding=0, dilation=1, ceil_mode=False)\n",
              "  (conv2): Sequential(\n",
              "    (0): Conv2d(64, 64, kernel_size=(5, 5), stride=(1, 1))\n",
              "    (1): ReLU(inplace)\n",
              "  )\n",
              "  (max_pool2): MaxPool2d(kernel_size=3, stride=2, padding=0, dilation=1, ceil_mode=False)\n",
              "  (fc1): Sequential(\n",
              "    (0): Linear(in_features=1024, out_features=384, bias=True)\n",
              "    (1): ReLU(inplace)\n",
              "  )\n",
              "  (fc2): Sequential(\n",
              "    (0): Linear(in_features=384, out_features=192, bias=True)\n",
              "    (1): ReLU(inplace)\n",
              "  )\n",
              "  (fc3): Linear(in_features=192, out_features=10, bias=True)\n",
              ")"
            ]
          },
          "metadata": {
            "tags": []
          },
          "execution_count": 4
        }
      ]
    },
    {
      "cell_type": "markdown",
      "metadata": {
        "id": "tdnPUXd70-HF",
        "colab_type": "text"
      },
      "source": [
        "我们验证一下网络结构是否正确，输入一张 32 x 32 的图片，看看输出"
      ]
    },
    {
      "cell_type": "code",
      "metadata": {
        "ExecuteTime": {
          "end_time": "2018-02-12T11:34:50.974995Z",
          "start_time": "2018-02-12T11:34:50.965497Z"
        },
        "id": "nNpJasi80-HG",
        "colab_type": "code",
        "outputId": "c6eb5ea2-647f-4135-ff8e-39d170b059c8",
        "colab": {
          "base_uri": "https://localhost:8080/",
          "height": 34
        }
      },
      "source": [
        "# 定义输入为 (1, 3, 32, 32)\n",
        "input_demo = Variable(torch.zeros(1, 3, 32, 32))\n",
        "output_demo = alexnet(input_demo)\n",
        "print(output_demo.shape)"
      ],
      "execution_count": 5,
      "outputs": [
        {
          "output_type": "stream",
          "text": [
            "torch.Size([1, 10])\n"
          ],
          "name": "stdout"
        }
      ]
    },
    {
      "cell_type": "code",
      "metadata": {
        "ExecuteTime": {
          "end_time": "2018-02-12T11:34:56.908575Z",
          "start_time": "2018-02-12T11:34:50.976980Z"
        },
        "id": "dXQbUr3i0-HP",
        "colab_type": "code",
        "outputId": "36d1f194-8251-4c4b-a5eb-f6f54e8de5ae",
        "colab": {
          "base_uri": "https://localhost:8080/",
          "height": 372
        }
      },
      "source": [
        "from utils import train\n",
        "\n",
        "def data_tf(x):\n",
        "    x = np.array(x, dtype='float32') / 255\n",
        "    x = (x - 0.5) / 0.5 # 标准化，这个技巧之后会讲到\n",
        "    x = x.transpose((2, 0, 1)) # 将 channel 放到第一维，只是 pytorch 要求的输入方式\n",
        "    x = torch.from_numpy(x)\n",
        "    return x\n",
        "     \n",
        "train_set = CIFAR10('./data', train=True, download = Ture,transform=data_tf)\n",
        "train_data = torch.utils.data.DataLoader(train_set, batch_size=64, shuffle=True)\n",
        "test_set = CIFAR10('./data', train=False, transform=data_tf)\n",
        "test_data = torch.utils.data.DataLoader(test_set, batch_size=128, shuffle=False)\n",
        "\n",
        "net = AlexNet().cuda()\n",
        "optimizer = torch.optim.SGD(net.parameters(), lr=1e-1)\n",
        "criterion = nn.CrossEntropyLoss()"
      ],
      "execution_count": 6,
      "outputs": [
        {
          "output_type": "error",
          "ename": "ModuleNotFoundError",
          "evalue": "ignored",
          "traceback": [
            "\u001b[0;31m---------------------------------------------------------------------------\u001b[0m",
            "\u001b[0;31mModuleNotFoundError\u001b[0m                       Traceback (most recent call last)",
            "\u001b[0;32m<ipython-input-6-3af5057915cb>\u001b[0m in \u001b[0;36m<module>\u001b[0;34m()\u001b[0m\n\u001b[0;32m----> 1\u001b[0;31m \u001b[0;32mfrom\u001b[0m \u001b[0mutils\u001b[0m \u001b[0;32mimport\u001b[0m \u001b[0mtrain\u001b[0m\u001b[0;34m\u001b[0m\u001b[0;34m\u001b[0m\u001b[0m\n\u001b[0m\u001b[1;32m      2\u001b[0m \u001b[0;34m\u001b[0m\u001b[0m\n\u001b[1;32m      3\u001b[0m \u001b[0;32mdef\u001b[0m \u001b[0mdata_tf\u001b[0m\u001b[0;34m(\u001b[0m\u001b[0mx\u001b[0m\u001b[0;34m)\u001b[0m\u001b[0;34m:\u001b[0m\u001b[0;34m\u001b[0m\u001b[0;34m\u001b[0m\u001b[0m\n\u001b[1;32m      4\u001b[0m     \u001b[0mx\u001b[0m \u001b[0;34m=\u001b[0m \u001b[0mnp\u001b[0m\u001b[0;34m.\u001b[0m\u001b[0marray\u001b[0m\u001b[0;34m(\u001b[0m\u001b[0mx\u001b[0m\u001b[0;34m,\u001b[0m \u001b[0mdtype\u001b[0m\u001b[0;34m=\u001b[0m\u001b[0;34m'float32'\u001b[0m\u001b[0;34m)\u001b[0m \u001b[0;34m/\u001b[0m \u001b[0;36m255\u001b[0m\u001b[0;34m\u001b[0m\u001b[0;34m\u001b[0m\u001b[0m\n\u001b[1;32m      5\u001b[0m     \u001b[0mx\u001b[0m \u001b[0;34m=\u001b[0m \u001b[0;34m(\u001b[0m\u001b[0mx\u001b[0m \u001b[0;34m-\u001b[0m \u001b[0;36m0.5\u001b[0m\u001b[0;34m)\u001b[0m \u001b[0;34m/\u001b[0m \u001b[0;36m0.5\u001b[0m \u001b[0;31m# 标准化，这个技巧之后会讲到\u001b[0m\u001b[0;34m\u001b[0m\u001b[0;34m\u001b[0m\u001b[0m\n",
            "\u001b[0;31mModuleNotFoundError\u001b[0m: No module named 'utils'",
            "",
            "\u001b[0;31m---------------------------------------------------------------------------\u001b[0;32m\nNOTE: If your import is failing due to a missing package, you can\nmanually install dependencies using either !pip or !apt.\n\nTo view examples of installing some common dependencies, click the\n\"Open Examples\" button below.\n\u001b[0;31m---------------------------------------------------------------------------\u001b[0m\n"
          ]
        }
      ]
    },
    {
      "cell_type": "code",
      "metadata": {
        "ExecuteTime": {
          "end_time": "2018-02-12T11:38:50.331195Z",
          "start_time": "2018-02-12T11:34:56.910952Z"
        },
        "id": "Pk8Z1tJy0-HS",
        "colab_type": "code",
        "colab": {}
      },
      "source": [
        "train(net, train_data, test_data, 20, optimizer, criterion)"
      ],
      "execution_count": 0,
      "outputs": []
    },
    {
      "cell_type": "markdown",
      "metadata": {
        "id": "-o4x6jRM0-HV",
        "colab_type": "text"
      },
      "source": [
        "可以看到，训练 20 次，AlxeNet 能够在 cifar 10 上取得 70% 左右的测试集准确率"
      ]
    }
  ]
}